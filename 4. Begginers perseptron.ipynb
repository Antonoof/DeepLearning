{
  "nbformat": 4,
  "nbformat_minor": 0,
  "metadata": {
    "colab": {
      "provenance": []
    },
    "kernelspec": {
      "name": "python3",
      "display_name": "Python 3"
    },
    "language_info": {
      "name": "python"
    }
  },
  "cells": [
    {
      "cell_type": "code",
      "execution_count": 5,
      "metadata": {
        "id": "lRTCpKdtHngF"
      },
      "outputs": [],
      "source": [
        "class Perseptron:\n",
        "  def __init__(self, N):\n",
        "    # Создать нулевые веса\n",
        "    self.w = [0] * N\n",
        "\n",
        "  def calc(self, x):\n",
        "    res = 0\n",
        "\n",
        "    for i in range(len(self.w)):\n",
        "      res = res + self.w[i] * x[i]\n",
        "\n",
        "    return res\n",
        "\n",
        "  def sign(self, x):\n",
        "    if self.calc(x) > 0:\n",
        "      return 1\n",
        "\n",
        "    return -1\n",
        "\n",
        "  def learn(self, la, x, y):\n",
        "    if y * self.calc(x) <= 0:\n",
        "      for i in range(len(self.w)):\n",
        "        self.w[i] = self.w[i] + la * y * x[i]\n",
        "\n",
        "  def learning(self, la, T):\n",
        "    for n in range(100):\n",
        "      for t in T:\n",
        "        self.learn(la, t[0], t[1])"
      ]
    },
    {
      "cell_type": "code",
      "source": [
        "perseptron = Perseptron(2)\n",
        "la = 0.1 # lr\n",
        "T = list()\n",
        "T.append([[2, 1], 1])\n",
        "T.append([[3, 2], 1])\n",
        "T.append([[4, 1], 1])\n",
        "T.append([[1, 2], -1])\n",
        "T.append([[2, 3], -1])\n",
        "T.append([[5, 7], -1])\n",
        "\n",
        "perseptron.learning(la, T)\n",
        "print(perseptron.w)\n",
        "\n",
        "print(perseptron.sign([1.5, 2]))\n",
        "print(perseptron.sign([3, 1.5]))\n",
        "print(perseptron.sign([5, 1]))\n",
        "print(perseptron.sign([5, 10]))"
      ],
      "metadata": {
        "colab": {
          "base_uri": "https://localhost:8080/"
        },
        "id": "MyLuHcUsJAkI",
        "outputId": "2c84f025-1ffa-47f4-b981-7aa1ac4cf0de"
      },
      "execution_count": 6,
      "outputs": [
        {
          "output_type": "stream",
          "name": "stdout",
          "text": [
            "[0.1, -0.1]\n",
            "-1\n",
            "1\n",
            "1\n",
            "-1\n"
          ]
        }
      ]
    },
    {
      "cell_type": "code",
      "source": [
        "import numpy as np\n",
        "\n",
        "def sigmoid(x):\n",
        "  return 1 / (1 + np.exp(-x))\n",
        "\n",
        "class Neuron:\n",
        "  def __init__(self, weights, bias):\n",
        "    self.weights = weights\n",
        "    self.bias = bias\n",
        "\n",
        "  def feedforward(self, inputs):\n",
        "    total = np.dot(self.weights, inputs) + self.bias\n",
        "    return sigmoid(total)\n",
        "\n",
        "weights = np.array([0, 1]) # w1 = 0, w2 = 1\n",
        "bias = 4\n",
        "n = Neuron(weights, bias)\n",
        "x = np.array([2, 3])\n",
        "print(n.feedforward(x))"
      ],
      "metadata": {
        "colab": {
          "base_uri": "https://localhost:8080/"
        },
        "id": "kdqVpN3OJ6kk",
        "outputId": "48407a18-0819-4372-d81c-9ff7cbcae162"
      },
      "execution_count": 7,
      "outputs": [
        {
          "output_type": "stream",
          "name": "stdout",
          "text": [
            "0.9990889488055994\n"
          ]
        }
      ]
    },
    {
      "cell_type": "code",
      "source": [
        "sigmoid(7)"
      ],
      "metadata": {
        "colab": {
          "base_uri": "https://localhost:8080/"
        },
        "id": "jyooYRhVLSUa",
        "outputId": "f012a8ab-f5a3-470c-e3af-013e7a52b668"
      },
      "execution_count": 8,
      "outputs": [
        {
          "output_type": "execute_result",
          "data": {
            "text/plain": [
              "0.9990889488055994"
            ]
          },
          "metadata": {},
          "execution_count": 8
        }
      ]
    },
    {
      "cell_type": "code",
      "source": [
        "class OurNeuralNetwork:\n",
        "  def __init__(self):\n",
        "    weights = np.array([0, 1])\n",
        "    bias = 0\n",
        "    self.h1 = Neuron(weights, bias)\n",
        "    self.h2 = Neuron(weights, bias)\n",
        "    self.o1 = Neuron(weights, bias)\n",
        "\n",
        "  def feedforward(self, x):\n",
        "    out_h1 = self.h1.feedforward(x)\n",
        "    out_h2 = self.h2.feedforward(x)\n",
        "    out_o1 = self.o1.feedforward(np.array([out_h1, out_h2]))\n",
        "    return out_o1\n",
        "\n",
        "network = OurNeuralNetwork()\n",
        "x = np.array([2, 3])\n",
        "print(network.feedforward(x))"
      ],
      "metadata": {
        "colab": {
          "base_uri": "https://localhost:8080/"
        },
        "id": "gkzRvu03Ljtp",
        "outputId": "3e443bd3-7e53-4106-f9ea-6c1d2b0ad2ed"
      },
      "execution_count": 9,
      "outputs": [
        {
          "output_type": "stream",
          "name": "stdout",
          "text": [
            "0.7216325609518421\n"
          ]
        }
      ]
    },
    {
      "cell_type": "code",
      "source": [
        "sigmoid(sigmoid(3))"
      ],
      "metadata": {
        "colab": {
          "base_uri": "https://localhost:8080/"
        },
        "id": "pqntGyu3MgUV",
        "outputId": "258e2360-4e56-4618-8178-f1ff834acc42"
      },
      "execution_count": 10,
      "outputs": [
        {
          "output_type": "execute_result",
          "data": {
            "text/plain": [
              "0.7216325609518421"
            ]
          },
          "metadata": {},
          "execution_count": 10
        }
      ]
    },
    {
      "cell_type": "markdown",
      "source": [
        "![image.png](data:image/png;base64,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)"
      ],
      "metadata": {
        "id": "3U_ywLaiSFrR"
      }
    },
    {
      "cell_type": "code",
      "source": [
        "def sigmoid_derivative(x):\n",
        "  sigmoid(x) * (1 - sigmoid(x))"
      ],
      "metadata": {
        "id": "69e3fhosP6xm"
      },
      "execution_count": 11,
      "outputs": []
    },
    {
      "cell_type": "code",
      "source": [
        "class NeuralNetwork:\n",
        "  def __init__(self, x, y):\n",
        "    self.inputs = x\n",
        "    self.weights1 = np.random.rand(x.shape[1], 1)\n",
        "    self.weights1 = np.random.rand(4, 1)\n",
        "    self.y = y\n",
        "    self.output = np.zeros(y.shape)\n",
        "\n",
        "  def feedforward(self):\n",
        "    self.layer_1 = sigmoid(np.dot(self.input, self.weights1))\n",
        "    self.output = sigmoid(np.dot(self.layer1, self.weights2))\n",
        "\n",
        "  def backprop(self):\n",
        "    d_weights2 = np.dot(self.layer_1.T, 2 * (self.y - self.output) * sigmoid_derivative(self.output))\n",
        "    d_weights1 = np.dot(self.input.T, (np.dot(2 * (self.y - self.output) * sigmoid_derivative(self.output), self.weights2.T) * sigmoid_derivative(self.layer_1)))\n",
        "\n",
        "    self.weights1 += d_weights1\n",
        "    self.weights2 += d_weights2"
      ],
      "metadata": {
        "id": "TMoHRAhdM6AS"
      },
      "execution_count": 12,
      "outputs": []
    },
    {
      "cell_type": "markdown",
      "source": [
        "# Задание 1:"
      ],
      "metadata": {
        "id": "z4T917HgSj-w"
      }
    },
    {
      "cell_type": "code",
      "source": [
        "class OurNeuralNetwork:\n",
        "  def __init__(self):\n",
        "    weights = np.array([0.5, 0.5, 0.5])\n",
        "    bias = 0\n",
        "    self.h1 = Neuron(weights, bias)\n",
        "    self.h2 = Neuron(weights, bias)\n",
        "    self.h3 = Neuron(weights, bias)\n",
        "    self.o1 = Neuron(weights, bias)\n",
        "\n",
        "  def feedforward(self, x):\n",
        "    out_h1 = self.h1.feedforward(x)\n",
        "    out_h2 = self.h2.feedforward(x)\n",
        "    out_h3 = self.h3.feedforward(x)\n",
        "    out_o1 = self.o1.feedforward(np.array([out_h1, out_h2, out_h3]))\n",
        "    return out_o1\n",
        "\n",
        "network = OurNeuralNetwork()\n",
        "x = np.array([1, 2, 3])\n",
        "print(network.feedforward(x))"
      ],
      "metadata": {
        "colab": {
          "base_uri": "https://localhost:8080/"
        },
        "id": "VKQBZ_XFOBQY",
        "outputId": "0af4c25b-3233-4e42-df76-a4b22fb65bad"
      },
      "execution_count": 13,
      "outputs": [
        {
          "output_type": "stream",
          "name": "stdout",
          "text": [
            "0.8067238139969796\n"
          ]
        }
      ]
    },
    {
      "cell_type": "code",
      "source": [
        "class OurNeuralNetwork:\n",
        "  def __init__(self):\n",
        "    weights = np.array([1, 0])\n",
        "    bias = 1\n",
        "    self.h1 = Neuron(weights, bias)\n",
        "    self.h2 = Neuron(weights, bias)\n",
        "    self.o1 = Neuron(weights, bias)\n",
        "    self.o2 = Neuron(weights, bias)\n",
        "\n",
        "  def feedforward(self, x):\n",
        "    out_h1 = self.h1.feedforward(x)\n",
        "    out_h2 = self.h2.feedforward(x)\n",
        "    out_o1 = self.o1.feedforward(np.array([out_h1, out_h2]))\n",
        "    out_o2 = self.o1.feedforward(np.array([out_h1, out_h2]))\n",
        "    return out_o1, out_o2\n",
        "\n",
        "network = OurNeuralNetwork()\n",
        "x = np.array([2, 3])\n",
        "print(network.feedforward(x))"
      ],
      "metadata": {
        "colab": {
          "base_uri": "https://localhost:8080/"
        },
        "id": "MCp_yWqRVrE-",
        "outputId": "82adc11b-6531-4a62-e59d-1acbef5341b1"
      },
      "execution_count": 14,
      "outputs": [
        {
          "output_type": "stream",
          "name": "stdout",
          "text": [
            "(0.8757270529783324, 0.8757270529783324)\n"
          ]
        }
      ]
    },
    {
      "cell_type": "code",
      "source": [
        "def sigmoid(x):\n",
        "  return 1 / (1 + np.exp(-x))\n",
        "\n",
        "class Neuron:\n",
        "  def __init__(self, weights, bias):\n",
        "    self.weights = weights\n",
        "    self.bias = bias\n",
        "\n",
        "  def feedforward(self, inputs):\n",
        "    total = np.dot(self.weights, inputs) + self.bias\n",
        "    return sigmoid(total)\n",
        "\n",
        "weights = np.array([0, 1]) # w1 = 0, w2 = 1\n",
        "bias = 4\n",
        "n = Neuron(weights, bias)\n",
        "x = np.array([2, 3])\n",
        "print(n.feedforward(x))"
      ],
      "metadata": {
        "colab": {
          "base_uri": "https://localhost:8080/"
        },
        "id": "S5iw7YCVV5Rk",
        "outputId": "a4b36662-99c6-40ec-ae29-fe7a4ae78520"
      },
      "execution_count": 15,
      "outputs": [
        {
          "output_type": "stream",
          "name": "stdout",
          "text": [
            "0.9990889488055994\n"
          ]
        }
      ]
    },
    {
      "cell_type": "code",
      "source": [
        "def tanh(x):\n",
        "  return np.tanh(x)\n",
        "\n",
        "class Neuron:\n",
        "  def __init__(self, weights, bias):\n",
        "    self.weights = weights\n",
        "    self.bias = bias\n",
        "\n",
        "  def feedforward(self, inputs):\n",
        "    total = np.dot(self.weights, inputs) + self.bias\n",
        "    return tanh(total)\n",
        "\n",
        "weights = np.array([0, 1]) # w1 = 0, w2 = 1\n",
        "bias = 4\n",
        "n = Neuron(weights, bias)\n",
        "x = np.array([2, 3])\n",
        "print(n.feedforward(x))"
      ],
      "metadata": {
        "colab": {
          "base_uri": "https://localhost:8080/"
        },
        "id": "7V2ZHZYLWLP_",
        "outputId": "e10723b9-4d21-4800-86e1-ccc7adb08767"
      },
      "execution_count": 16,
      "outputs": [
        {
          "output_type": "stream",
          "name": "stdout",
          "text": [
            "0.9999983369439447\n"
          ]
        }
      ]
    },
    {
      "cell_type": "code",
      "source": [
        "def ReLU(x):\n",
        "  return max(0, x)\n",
        "\n",
        "class Neuron:\n",
        "  def __init__(self, weights, bias):\n",
        "    self.weights = weights\n",
        "    self.bias = bias\n",
        "\n",
        "  def feedforward(self, inputs):\n",
        "    total = np.dot(self.weights, inputs) + self.bias\n",
        "    return ReLU(total)\n",
        "\n",
        "weights = np.array([0, 1]) # w1 = 0, w2 = 1\n",
        "bias = 4\n",
        "n = Neuron(weights, bias)\n",
        "x = np.array([2, 3])\n",
        "print(n.feedforward(x))"
      ],
      "metadata": {
        "colab": {
          "base_uri": "https://localhost:8080/"
        },
        "id": "RkglsvxYWP_J",
        "outputId": "fa4535c3-06e8-4a35-fb8c-cd14cf6014fd"
      },
      "execution_count": 17,
      "outputs": [
        {
          "output_type": "stream",
          "name": "stdout",
          "text": [
            "7\n"
          ]
        }
      ]
    },
    {
      "cell_type": "code",
      "source": [
        "import numpy as np\n",
        "import pandas as pd\n",
        "import matplotlib.pyplot as plt\n",
        "import sklearn"
      ],
      "metadata": {
        "id": "K-dPcv9EWTJb"
      },
      "execution_count": 21,
      "outputs": []
    },
    {
      "cell_type": "code",
      "source": [
        "from sklearn.datasets import load_digits\n",
        "\n",
        "digits = load_digits()\n",
        "X_digits, Y_digits = digits.data, digits.target\n",
        "X_digits.shape, Y_digits.shape"
      ],
      "metadata": {
        "colab": {
          "base_uri": "https://localhost:8080/"
        },
        "id": "mBLx4-W_W43K",
        "outputId": "a9c838d7-adc7-4a40-c112-b09e0458bac8"
      },
      "execution_count": 20,
      "outputs": [
        {
          "output_type": "execute_result",
          "data": {
            "text/plain": [
              "((1797, 64), (1797,))"
            ]
          },
          "metadata": {},
          "execution_count": 20
        }
      ]
    },
    {
      "cell_type": "code",
      "source": [
        "from sklearn.model_selection import train_test_split\n",
        "\n",
        "X_train, X_test, y_train, y_test = train_test_split(X_digits, Y_digits, test_size=0.2, random_state=123, stratify=Y_digits)\n",
        "\n",
        "X_train.shape, X_test.shape, y_train.shape, y_test.shape"
      ],
      "metadata": {
        "colab": {
          "base_uri": "https://localhost:8080/"
        },
        "id": "kvT6jN-JXZax",
        "outputId": "6b1eb8d7-6d56-4130-db1b-4ca59e276afb"
      },
      "execution_count": 22,
      "outputs": [
        {
          "output_type": "execute_result",
          "data": {
            "text/plain": [
              "((1437, 64), (360, 64), (1437,), (360,))"
            ]
          },
          "metadata": {},
          "execution_count": 22
        }
      ]
    },
    {
      "cell_type": "code",
      "source": [
        "from sklearn.neural_network import MLPClassifier\n",
        "\n",
        "mlp_classifier = MLPClassifier(random_state=123)\n",
        "\n",
        "mlp_classifier.fit(X_train, y_train)"
      ],
      "metadata": {
        "colab": {
          "base_uri": "https://localhost:8080/",
          "height": 74
        },
        "id": "x0yF6MQEafq3",
        "outputId": "77a1f585-d958-422a-c22e-0b6a6d7cc61b"
      },
      "execution_count": 23,
      "outputs": [
        {
          "output_type": "execute_result",
          "data": {
            "text/plain": [
              "MLPClassifier(random_state=123)"
            ],
            "text/html": [
              "<style>#sk-container-id-1 {color: black;background-color: white;}#sk-container-id-1 pre{padding: 0;}#sk-container-id-1 div.sk-toggleable {background-color: white;}#sk-container-id-1 label.sk-toggleable__label {cursor: pointer;display: block;width: 100%;margin-bottom: 0;padding: 0.3em;box-sizing: border-box;text-align: center;}#sk-container-id-1 label.sk-toggleable__label-arrow:before {content: \"▸\";float: left;margin-right: 0.25em;color: #696969;}#sk-container-id-1 label.sk-toggleable__label-arrow:hover:before {color: black;}#sk-container-id-1 div.sk-estimator:hover label.sk-toggleable__label-arrow:before {color: black;}#sk-container-id-1 div.sk-toggleable__content {max-height: 0;max-width: 0;overflow: hidden;text-align: left;background-color: #f0f8ff;}#sk-container-id-1 div.sk-toggleable__content pre {margin: 0.2em;color: black;border-radius: 0.25em;background-color: #f0f8ff;}#sk-container-id-1 input.sk-toggleable__control:checked~div.sk-toggleable__content {max-height: 200px;max-width: 100%;overflow: auto;}#sk-container-id-1 input.sk-toggleable__control:checked~label.sk-toggleable__label-arrow:before {content: \"▾\";}#sk-container-id-1 div.sk-estimator input.sk-toggleable__control:checked~label.sk-toggleable__label {background-color: #d4ebff;}#sk-container-id-1 div.sk-label input.sk-toggleable__control:checked~label.sk-toggleable__label {background-color: #d4ebff;}#sk-container-id-1 input.sk-hidden--visually {border: 0;clip: rect(1px 1px 1px 1px);clip: rect(1px, 1px, 1px, 1px);height: 1px;margin: -1px;overflow: hidden;padding: 0;position: absolute;width: 1px;}#sk-container-id-1 div.sk-estimator {font-family: monospace;background-color: #f0f8ff;border: 1px dotted black;border-radius: 0.25em;box-sizing: border-box;margin-bottom: 0.5em;}#sk-container-id-1 div.sk-estimator:hover {background-color: #d4ebff;}#sk-container-id-1 div.sk-parallel-item::after {content: \"\";width: 100%;border-bottom: 1px solid gray;flex-grow: 1;}#sk-container-id-1 div.sk-label:hover label.sk-toggleable__label {background-color: #d4ebff;}#sk-container-id-1 div.sk-serial::before {content: \"\";position: absolute;border-left: 1px solid gray;box-sizing: border-box;top: 0;bottom: 0;left: 50%;z-index: 0;}#sk-container-id-1 div.sk-serial {display: flex;flex-direction: column;align-items: center;background-color: white;padding-right: 0.2em;padding-left: 0.2em;position: relative;}#sk-container-id-1 div.sk-item {position: relative;z-index: 1;}#sk-container-id-1 div.sk-parallel {display: flex;align-items: stretch;justify-content: center;background-color: white;position: relative;}#sk-container-id-1 div.sk-item::before, #sk-container-id-1 div.sk-parallel-item::before {content: \"\";position: absolute;border-left: 1px solid gray;box-sizing: border-box;top: 0;bottom: 0;left: 50%;z-index: -1;}#sk-container-id-1 div.sk-parallel-item {display: flex;flex-direction: column;z-index: 1;position: relative;background-color: white;}#sk-container-id-1 div.sk-parallel-item:first-child::after {align-self: flex-end;width: 50%;}#sk-container-id-1 div.sk-parallel-item:last-child::after {align-self: flex-start;width: 50%;}#sk-container-id-1 div.sk-parallel-item:only-child::after {width: 0;}#sk-container-id-1 div.sk-dashed-wrapped {border: 1px dashed gray;margin: 0 0.4em 0.5em 0.4em;box-sizing: border-box;padding-bottom: 0.4em;background-color: white;}#sk-container-id-1 div.sk-label label {font-family: monospace;font-weight: bold;display: inline-block;line-height: 1.2em;}#sk-container-id-1 div.sk-label-container {text-align: center;}#sk-container-id-1 div.sk-container {/* jupyter's `normalize.less` sets `[hidden] { display: none; }` but bootstrap.min.css set `[hidden] { display: none !important; }` so we also need the `!important` here to be able to override the default hidden behavior on the sphinx rendered scikit-learn.org. See: https://github.com/scikit-learn/scikit-learn/issues/21755 */display: inline-block !important;position: relative;}#sk-container-id-1 div.sk-text-repr-fallback {display: none;}</style><div id=\"sk-container-id-1\" class=\"sk-top-container\"><div class=\"sk-text-repr-fallback\"><pre>MLPClassifier(random_state=123)</pre><b>In a Jupyter environment, please rerun this cell to show the HTML representation or trust the notebook. <br />On GitHub, the HTML representation is unable to render, please try loading this page with nbviewer.org.</b></div><div class=\"sk-container\" hidden><div class=\"sk-item\"><div class=\"sk-estimator sk-toggleable\"><input class=\"sk-toggleable__control sk-hidden--visually\" id=\"sk-estimator-id-1\" type=\"checkbox\" checked><label for=\"sk-estimator-id-1\" class=\"sk-toggleable__label sk-toggleable__label-arrow\">MLPClassifier</label><div class=\"sk-toggleable__content\"><pre>MLPClassifier(random_state=123)</pre></div></div></div></div></div>"
            ]
          },
          "metadata": {},
          "execution_count": 23
        }
      ]
    },
    {
      "cell_type": "code",
      "source": [
        "y_preds = mlp_classifier.predict(X_test)\n",
        "\n",
        "print(y_preds[:15])\n",
        "print(y_test[:15])\n",
        "\n",
        "print(f'Test Accuracy: {mlp_classifier.score(X_test, y_test):.3f}')\n",
        "print(f'Test Accuracy: {mlp_classifier.score(X_train, y_train):.3f}')"
      ],
      "metadata": {
        "colab": {
          "base_uri": "https://localhost:8080/"
        },
        "id": "uvw8ru2ia7If",
        "outputId": "c6181343-e842-499f-f6e7-5d8dd0c03b1e"
      },
      "execution_count": 24,
      "outputs": [
        {
          "output_type": "stream",
          "name": "stdout",
          "text": [
            "[5 9 9 6 1 6 6 9 8 7 4 2 1 4 3]\n",
            "[5 9 9 6 1 6 6 9 8 7 4 2 1 4 3]\n",
            "Test Accuracy: 0.983\n",
            "Test Accuracy: 1.000\n"
          ]
        }
      ]
    },
    {
      "cell_type": "code",
      "source": [
        "from sklearn.metrics import ConfusionMatrixDisplay\n",
        "\n",
        "def plot_confusion_matrix(model, X_test, y_test):\n",
        "  ConfusionMatrixDisplay.from_estimator(model, X_test, y_test, cmap='plasma')"
      ],
      "metadata": {
        "id": "GmpVpwJAbaXT"
      },
      "execution_count": 48,
      "outputs": []
    },
    {
      "cell_type": "code",
      "source": [
        "plot_confusion_matrix(mlp_classifier, X_test, y_test)"
      ],
      "metadata": {
        "colab": {
          "base_uri": "https://localhost:8080/",
          "height": 449
        },
        "id": "Vgyx3sK4cJlz",
        "outputId": "02e4a51f-02ff-4eee-9b71-d10cda4e4f1e"
      },
      "execution_count": 49,
      "outputs": [
        {
          "output_type": "display_data",
          "data": {
            "text/plain": [
              "<Figure size 640x480 with 2 Axes>"
            ],
            "image/png": "[encoded data removed]"
          },
          "metadata": {}
        }
      ]
    },
    {
      "cell_type": "code",
      "source": [
        "print(\"Loss:\", mlp_classifier.loss_)\n",
        "print(\"Number of coefs:\", len(mlp_classifier.coefs_))\n",
        "print(\"Number of Intercepts:\", len(mlp_classifier.intercepts_))\n",
        "print(\"Number of Iterations for Which Estimator Ran:\", mlp_classifier.n_iter_)\n",
        "print(\"Name of Output Layer Activation Function:\", mlp_classifier.out_activation_)"
      ],
      "metadata": {
        "colab": {
          "base_uri": "https://localhost:8080/"
        },
        "id": "gRmYIQOWcMw7",
        "outputId": "a9f570df-65f8-4502-d8bc-d193e475b46d"
      },
      "execution_count": 51,
      "outputs": [
        {
          "output_type": "stream",
          "name": "stdout",
          "text": [
            "Loss: 0.0034728684994180608\n",
            "Number of coefs: 2\n",
            "Number of Intercepts: 2\n",
            "Number of Iterations for Which Estimator Ran: 125\n",
            "Name of Output Layer Activation Function: softmax\n"
          ]
        }
      ]
    },
    {
      "cell_type": "code",
      "source": [
        "from sklearn.datasets import load_iris\n",
        "from sklearn.neural_network import MLPRegressor"
      ],
      "metadata": {
        "id": "iHi_LaU0eKJ2"
      },
      "execution_count": 52,
      "outputs": []
    },
    {
      "cell_type": "code",
      "source": [
        "data = load_iris()\n",
        "\n",
        "X_train, X_test, y_train, y_test = train_test_split(data.data, data.target, test_size=0.2, random_state=42, stratify=data.target)\n",
        "\n",
        "X_train.shape, X_test.shape, y_train.shape, y_test.shape"
      ],
      "metadata": {
        "colab": {
          "base_uri": "https://localhost:8080/"
        },
        "id": "F-nlhXW_e4wm",
        "outputId": "d6e92ac7-e5e2-4843-c003-d7725857d6da"
      },
      "execution_count": 55,
      "outputs": [
        {
          "output_type": "execute_result",
          "data": {
            "text/plain": [
              "((120, 4), (30, 4), (120,), (30,))"
            ]
          },
          "metadata": {},
          "execution_count": 55
        }
      ]
    },
    {
      "cell_type": "code",
      "source": [
        "mlp_classifier = MLPClassifier(random_state=42)\n",
        "\n",
        "mlp_classifier.fit(X_train, y_train)"
      ],
      "metadata": {
        "colab": {
          "base_uri": "https://localhost:8080/",
          "height": 111
        },
        "id": "aFfa04TBe-ai",
        "outputId": "3db58779-f0cf-4f32-a3a9-da757a6fea28"
      },
      "execution_count": 59,
      "outputs": [
        {
          "output_type": "stream",
          "name": "stderr",
          "text": [
            "/usr/local/lib/python3.11/dist-packages/sklearn/neural_network/_multilayer_perceptron.py:686: ConvergenceWarning: Stochastic Optimizer: Maximum iterations (200) reached and the optimization hasn't converged yet.\n",
            "  warnings.warn(\n"
          ]
        },
        {
          "output_type": "execute_result",
          "data": {
            "text/plain": [
              "MLPClassifier(random_state=42)"
            ],
            "text/html": [
              "<style>#sk-container-id-3 {color: black;background-color: white;}#sk-container-id-3 pre{padding: 0;}#sk-container-id-3 div.sk-toggleable {background-color: white;}#sk-container-id-3 label.sk-toggleable__label {cursor: pointer;display: block;width: 100%;margin-bottom: 0;padding: 0.3em;box-sizing: border-box;text-align: center;}#sk-container-id-3 label.sk-toggleable__label-arrow:before {content: \"▸\";float: left;margin-right: 0.25em;color: #696969;}#sk-container-id-3 label.sk-toggleable__label-arrow:hover:before {color: black;}#sk-container-id-3 div.sk-estimator:hover label.sk-toggleable__label-arrow:before {color: black;}#sk-container-id-3 div.sk-toggleable__content {max-height: 0;max-width: 0;overflow: hidden;text-align: left;background-color: #f0f8ff;}#sk-container-id-3 div.sk-toggleable__content pre {margin: 0.2em;color: black;border-radius: 0.25em;background-color: #f0f8ff;}#sk-container-id-3 input.sk-toggleable__control:checked~div.sk-toggleable__content {max-height: 200px;max-width: 100%;overflow: auto;}#sk-container-id-3 input.sk-toggleable__control:checked~label.sk-toggleable__label-arrow:before {content: \"▾\";}#sk-container-id-3 div.sk-estimator input.sk-toggleable__control:checked~label.sk-toggleable__label {background-color: #d4ebff;}#sk-container-id-3 div.sk-label input.sk-toggleable__control:checked~label.sk-toggleable__label {background-color: #d4ebff;}#sk-container-id-3 input.sk-hidden--visually {border: 0;clip: rect(1px 1px 1px 1px);clip: rect(1px, 1px, 1px, 1px);height: 1px;margin: -1px;overflow: hidden;padding: 0;position: absolute;width: 1px;}#sk-container-id-3 div.sk-estimator {font-family: monospace;background-color: #f0f8ff;border: 1px dotted black;border-radius: 0.25em;box-sizing: border-box;margin-bottom: 0.5em;}#sk-container-id-3 div.sk-estimator:hover {background-color: #d4ebff;}#sk-container-id-3 div.sk-parallel-item::after {content: \"\";width: 100%;border-bottom: 1px solid gray;flex-grow: 1;}#sk-container-id-3 div.sk-label:hover label.sk-toggleable__label {background-color: #d4ebff;}#sk-container-id-3 div.sk-serial::before {content: \"\";position: absolute;border-left: 1px solid gray;box-sizing: border-box;top: 0;bottom: 0;left: 50%;z-index: 0;}#sk-container-id-3 div.sk-serial {display: flex;flex-direction: column;align-items: center;background-color: white;padding-right: 0.2em;padding-left: 0.2em;position: relative;}#sk-container-id-3 div.sk-item {position: relative;z-index: 1;}#sk-container-id-3 div.sk-parallel {display: flex;align-items: stretch;justify-content: center;background-color: white;position: relative;}#sk-container-id-3 div.sk-item::before, #sk-container-id-3 div.sk-parallel-item::before {content: \"\";position: absolute;border-left: 1px solid gray;box-sizing: border-box;top: 0;bottom: 0;left: 50%;z-index: -1;}#sk-container-id-3 div.sk-parallel-item {display: flex;flex-direction: column;z-index: 1;position: relative;background-color: white;}#sk-container-id-3 div.sk-parallel-item:first-child::after {align-self: flex-end;width: 50%;}#sk-container-id-3 div.sk-parallel-item:last-child::after {align-self: flex-start;width: 50%;}#sk-container-id-3 div.sk-parallel-item:only-child::after {width: 0;}#sk-container-id-3 div.sk-dashed-wrapped {border: 1px dashed gray;margin: 0 0.4em 0.5em 0.4em;box-sizing: border-box;padding-bottom: 0.4em;background-color: white;}#sk-container-id-3 div.sk-label label {font-family: monospace;font-weight: bold;display: inline-block;line-height: 1.2em;}#sk-container-id-3 div.sk-label-container {text-align: center;}#sk-container-id-3 div.sk-container {/* jupyter's `normalize.less` sets `[hidden] { display: none; }` but bootstrap.min.css set `[hidden] { display: none !important; }` so we also need the `!important` here to be able to override the default hidden behavior on the sphinx rendered scikit-learn.org. See: https://github.com/scikit-learn/scikit-learn/issues/21755 */display: inline-block !important;position: relative;}#sk-container-id-3 div.sk-text-repr-fallback {display: none;}</style><div id=\"sk-container-id-3\" class=\"sk-top-container\"><div class=\"sk-text-repr-fallback\"><pre>MLPClassifier(random_state=42)</pre><b>In a Jupyter environment, please rerun this cell to show the HTML representation or trust the notebook. <br />On GitHub, the HTML representation is unable to render, please try loading this page with nbviewer.org.</b></div><div class=\"sk-container\" hidden><div class=\"sk-item\"><div class=\"sk-estimator sk-toggleable\"><input class=\"sk-toggleable__control sk-hidden--visually\" id=\"sk-estimator-id-3\" type=\"checkbox\" checked><label for=\"sk-estimator-id-3\" class=\"sk-toggleable__label sk-toggleable__label-arrow\">MLPClassifier</label><div class=\"sk-toggleable__content\"><pre>MLPClassifier(random_state=42)</pre></div></div></div></div></div>"
            ]
          },
          "metadata": {},
          "execution_count": 59
        }
      ]
    },
    {
      "cell_type": "code",
      "source": [
        "plot_confusion_matrix(mlp_classifier, X_test, y_test)"
      ],
      "metadata": {
        "colab": {
          "base_uri": "https://localhost:8080/",
          "height": 455
        },
        "id": "b60hQW5lfYpl",
        "outputId": "a4dc517d-84e7-43cf-d8d6-42b5e7831a52"
      },
      "execution_count": 60,
      "outputs": [
        {
          "output_type": "display_data",
          "data": {
            "text/plain": [
              "<Figure size 640x480 with 2 Axes>"
            ],
            "image/png": "[encoded data removed]"
          },
          "metadata": {}
        }
      ]
    },
    {
      "cell_type": "code",
      "source": [
        "y_train.reshape(-1, 1)[:2]"
      ],
      "metadata": {
        "colab": {
          "base_uri": "https://localhost:8080/"
        },
        "id": "TnFpkeaMgWSQ",
        "outputId": "22d877e5-e928-47ef-c58a-bc1c48a06ac6"
      },
      "execution_count": 75,
      "outputs": [
        {
          "output_type": "execute_result",
          "data": {
            "text/plain": [
              "array([[0],\n",
              "       [2]])"
            ]
          },
          "metadata": {},
          "execution_count": 75
        }
      ]
    },
    {
      "cell_type": "code",
      "source": [
        "mlp_regressor = MLPRegressor(random_state=42)\n",
        "\n",
        "mlp_regressor.fit(y_train.reshape(-1, 1), X_train)"
      ],
      "metadata": {
        "colab": {
          "base_uri": "https://localhost:8080/",
          "height": 111
        },
        "id": "sJTtP4dvf9Ew",
        "outputId": "8f94ac07-6cf7-4d9d-efd9-778e0f0fd997"
      },
      "execution_count": 69,
      "outputs": [
        {
          "output_type": "stream",
          "name": "stderr",
          "text": [
            "/usr/local/lib/python3.11/dist-packages/sklearn/neural_network/_multilayer_perceptron.py:686: ConvergenceWarning: Stochastic Optimizer: Maximum iterations (200) reached and the optimization hasn't converged yet.\n",
            "  warnings.warn(\n"
          ]
        },
        {
          "output_type": "execute_result",
          "data": {
            "text/plain": [
              "MLPRegressor(random_state=42)"
            ],
            "text/html": [
              "<style>#sk-container-id-5 {color: black;background-color: white;}#sk-container-id-5 pre{padding: 0;}#sk-container-id-5 div.sk-toggleable {background-color: white;}#sk-container-id-5 label.sk-toggleable__label {cursor: pointer;display: block;width: 100%;margin-bottom: 0;padding: 0.3em;box-sizing: border-box;text-align: center;}#sk-container-id-5 label.sk-toggleable__label-arrow:before {content: \"▸\";float: left;margin-right: 0.25em;color: #696969;}#sk-container-id-5 label.sk-toggleable__label-arrow:hover:before {color: black;}#sk-container-id-5 div.sk-estimator:hover label.sk-toggleable__label-arrow:before {color: black;}#sk-container-id-5 div.sk-toggleable__content {max-height: 0;max-width: 0;overflow: hidden;text-align: left;background-color: #f0f8ff;}#sk-container-id-5 div.sk-toggleable__content pre {margin: 0.2em;color: black;border-radius: 0.25em;background-color: #f0f8ff;}#sk-container-id-5 input.sk-toggleable__control:checked~div.sk-toggleable__content {max-height: 200px;max-width: 100%;overflow: auto;}#sk-container-id-5 input.sk-toggleable__control:checked~label.sk-toggleable__label-arrow:before {content: \"▾\";}#sk-container-id-5 div.sk-estimator input.sk-toggleable__control:checked~label.sk-toggleable__label {background-color: #d4ebff;}#sk-container-id-5 div.sk-label input.sk-toggleable__control:checked~label.sk-toggleable__label {background-color: #d4ebff;}#sk-container-id-5 input.sk-hidden--visually {border: 0;clip: rect(1px 1px 1px 1px);clip: rect(1px, 1px, 1px, 1px);height: 1px;margin: -1px;overflow: hidden;padding: 0;position: absolute;width: 1px;}#sk-container-id-5 div.sk-estimator {font-family: monospace;background-color: #f0f8ff;border: 1px dotted black;border-radius: 0.25em;box-sizing: border-box;margin-bottom: 0.5em;}#sk-container-id-5 div.sk-estimator:hover {background-color: #d4ebff;}#sk-container-id-5 div.sk-parallel-item::after {content: \"\";width: 100%;border-bottom: 1px solid gray;flex-grow: 1;}#sk-container-id-5 div.sk-label:hover label.sk-toggleable__label {background-color: #d4ebff;}#sk-container-id-5 div.sk-serial::before {content: \"\";position: absolute;border-left: 1px solid gray;box-sizing: border-box;top: 0;bottom: 0;left: 50%;z-index: 0;}#sk-container-id-5 div.sk-serial {display: flex;flex-direction: column;align-items: center;background-color: white;padding-right: 0.2em;padding-left: 0.2em;position: relative;}#sk-container-id-5 div.sk-item {position: relative;z-index: 1;}#sk-container-id-5 div.sk-parallel {display: flex;align-items: stretch;justify-content: center;background-color: white;position: relative;}#sk-container-id-5 div.sk-item::before, #sk-container-id-5 div.sk-parallel-item::before {content: \"\";position: absolute;border-left: 1px solid gray;box-sizing: border-box;top: 0;bottom: 0;left: 50%;z-index: -1;}#sk-container-id-5 div.sk-parallel-item {display: flex;flex-direction: column;z-index: 1;position: relative;background-color: white;}#sk-container-id-5 div.sk-parallel-item:first-child::after {align-self: flex-end;width: 50%;}#sk-container-id-5 div.sk-parallel-item:last-child::after {align-self: flex-start;width: 50%;}#sk-container-id-5 div.sk-parallel-item:only-child::after {width: 0;}#sk-container-id-5 div.sk-dashed-wrapped {border: 1px dashed gray;margin: 0 0.4em 0.5em 0.4em;box-sizing: border-box;padding-bottom: 0.4em;background-color: white;}#sk-container-id-5 div.sk-label label {font-family: monospace;font-weight: bold;display: inline-block;line-height: 1.2em;}#sk-container-id-5 div.sk-label-container {text-align: center;}#sk-container-id-5 div.sk-container {/* jupyter's `normalize.less` sets `[hidden] { display: none; }` but bootstrap.min.css set `[hidden] { display: none !important; }` so we also need the `!important` here to be able to override the default hidden behavior on the sphinx rendered scikit-learn.org. See: https://github.com/scikit-learn/scikit-learn/issues/21755 */display: inline-block !important;position: relative;}#sk-container-id-5 div.sk-text-repr-fallback {display: none;}</style><div id=\"sk-container-id-5\" class=\"sk-top-container\"><div class=\"sk-text-repr-fallback\"><pre>MLPRegressor(random_state=42)</pre><b>In a Jupyter environment, please rerun this cell to show the HTML representation or trust the notebook. <br />On GitHub, the HTML representation is unable to render, please try loading this page with nbviewer.org.</b></div><div class=\"sk-container\" hidden><div class=\"sk-item\"><div class=\"sk-estimator sk-toggleable\"><input class=\"sk-toggleable__control sk-hidden--visually\" id=\"sk-estimator-id-5\" type=\"checkbox\" checked><label for=\"sk-estimator-id-5\" class=\"sk-toggleable__label sk-toggleable__label-arrow\">MLPRegressor</label><div class=\"sk-toggleable__content\"><pre>MLPRegressor(random_state=42)</pre></div></div></div></div></div>"
            ]
          },
          "metadata": {},
          "execution_count": 69
        }
      ]
    },
    {
      "cell_type": "code",
      "source": [
        "y_preds = mlp_regressor.predict(y_test.reshape(-1, 1))\n",
        "\n",
        "print(y_preds[:5])"
      ],
      "metadata": {
        "colab": {
          "base_uri": "https://localhost:8080/"
        },
        "id": "BIPTeLrufgrY",
        "outputId": "db6e6095-522b-4962-bbc6-7d01b25e892d"
      },
      "execution_count": 73,
      "outputs": [
        {
          "output_type": "stream",
          "name": "stdout",
          "text": [
            "[[3.26761214 2.19459445 2.28865405 0.37129798]\n",
            " [7.0301429  3.62300545 5.4589621  2.04071834]\n",
            " [5.16208366 2.89644054 3.87345738 1.22932717]\n",
            " [5.16208366 2.89644054 3.87345738 1.22932717]\n",
            " [3.26761214 2.19459445 2.28865405 0.37129798]]\n"
          ]
        }
      ]
    },
    {
      "cell_type": "code",
      "source": [
        "plt.scatter(X_train[:, 2], X_train[:, 3], c=y_train, cmap='rainbow', label='Train Data', alpha=0.6)\n",
        "\n",
        "plt.scatter(X_test[:, 2], X_test[:, 3], c=y_test, cmap='rainbow', marker='x', label='Test Data')\n",
        "\n",
        "plt.legend()\n",
        "plt.show()"
      ],
      "metadata": {
        "colab": {
          "base_uri": "https://localhost:8080/",
          "height": 430
        },
        "id": "CuEo6r-9fwLO",
        "outputId": "811267c7-2be9-4a1d-eb36-08f754cfdbf4"
      },
      "execution_count": 94,
      "outputs": [
        {
          "output_type": "display_data",
          "data": {
            "text/plain": [
              "<Figure size 640x480 with 1 Axes>"
            ],
            "image/png": "[encoded data removed]"
          },
          "metadata": {}
        }
      ]
    }
  ]
}